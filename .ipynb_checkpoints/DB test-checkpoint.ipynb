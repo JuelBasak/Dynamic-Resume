{
 "cells": [
  {
   "cell_type": "raw",
   "id": "0ccc9d1a",
   "metadata": {},
   "source": [
    "import sqlite3\n",
    "\n",
    "conn = sqlite3.connect('test.db')\n",
    "print(\"Opened database successfully\")\n",
    "\n",
    "conn.execute(\"CREATE TABLE COMPANY (ID INT, NAME VARCHAR(255), AGE INT, ADDRES)\")\n",
    "\n",
    "conn.execute(\"INSERT INTO COMPANY (ID,NAME,AGE,ADDRESS,SALARY) \\\n",
    "      VALUES (1, 'Paul', 32, 'California', 20000.00 )\")\n",
    "\n",
    "conn.execute(\"INSERT INTO COMPANY (ID,NAME,AGE,ADDRESS,SALARY) \\\n",
    "      VALUES (2, 'Allen', 25, 'Texas', 15000.00 )\")\n",
    "\n",
    "conn.execute(\"INSERT INTO COMPANY (ID,NAME,AGE,ADDRESS,SALARY) \\\n",
    "      VALUES (3, 'Teddy', 23, 'Norway', 20000.00 )\")\n",
    "\n",
    "conn.execute(\"INSERT INTO COMPANY (ID,NAME,AGE,ADDRESS,SALARY) \\\n",
    "      VALUES (4, 'Mark', 25, 'Rich-Mond ', 65000.00 )\")\n",
    "\n",
    "conn.commit()\n",
    "print(\"Records created successfully\")\n",
    "conn.close()"
   ]
  },
  {
   "cell_type": "code",
   "execution_count": 1,
   "id": "723b1063",
   "metadata": {},
   "outputs": [
    {
     "name": "stdout",
     "output_type": "stream",
     "text": [
      "Opened database successfully\n"
     ]
    }
   ],
   "source": [
    "import sqlite3\n",
    "\n",
    "conn = sqlite3.connect('database/user.db')\n",
    "print(\"Opened database successfully\")"
   ]
  },
  {
   "cell_type": "code",
   "execution_count": 12,
   "id": "16379c9d",
   "metadata": {},
   "outputs": [],
   "source": [
    "main_dict = {}"
   ]
  },
  {
   "cell_type": "code",
   "execution_count": 14,
   "id": "1a357908",
   "metadata": {},
   "outputs": [],
   "source": [
    "table1_dict = {}\n",
    "\n",
    "for i in conn.execute('SELECT * FROM ABOUT_ME'):\n",
    "    table1_dict['tid'] = i[0]\n",
    "    table1_dict['name'] = i[1]\n",
    "    table1_dict['heading'] = i[2]\n",
    "    table1_dict['description'] = i[3]\n",
    "    table1_dict['email'] = i[4]\n",
    "    table1_dict['linkedin'] = i[5]\n",
    "    table1_dict['git'] = i[6]\n",
    "    table1_dict['kaggle'] = i[7]\n",
    "    \n",
    "main_dict['table1_dict'] = table1_dict"
   ]
  },
  {
   "cell_type": "code",
   "execution_count": 16,
   "id": "1305674d",
   "metadata": {},
   "outputs": [],
   "source": [
    "table2_dict = {}\n",
    "\n",
    "for i in conn.execute('SELECT * FROM EDUCATION'):\n",
    "    table2_dict['tid'] = i[0]\n",
    "    table2_dict['degree'] = i[1]\n",
    "    table2_dict['university'] = i[2]\n",
    "    table2_dict['location'] = i[3]\n",
    "    table2_dict['score'] = i[4]\n",
    "    table2_dict['start_date'] = i[5]\n",
    "    table2_dict['end_date'] = i[6]\n",
    "    table2_dict['duration'] = i[7]\n",
    "\n",
    "main_dict['table2_dict'] = table2_dict"
   ]
  },
  {
   "cell_type": "code",
   "execution_count": 17,
   "id": "20551d28",
   "metadata": {},
   "outputs": [
    {
     "data": {
      "text/plain": [
       "{'tid': 'TB201',\n",
       " 'degree': 'B. Tech in Computer Science and Engineering',\n",
       " 'university': 'M. S. Ramaiah University of Applied Sciences',\n",
       " 'location': 'Bangalore',\n",
       " 'score': 7.73,\n",
       " 'start_date': '09/2015',\n",
       " 'end_date': '05/2019',\n",
       " 'duration': 4.0}"
      ]
     },
     "execution_count": 17,
     "metadata": {},
     "output_type": "execute_result"
    }
   ],
   "source": [
    "table2_dict"
   ]
  },
  {
   "cell_type": "code",
   "execution_count": 25,
   "id": "30e55664",
   "metadata": {},
   "outputs": [],
   "source": [
    "table3_dict = {}\n",
    "\n",
    "for i in conn.execute('SELECT * FROM EXPERIENCE'):\n",
    "    table3_dict['tid'] = i[0]\n",
    "    table3_dict['designation'] = i[1]\n",
    "    table3_dict['company'] = i[2]\n",
    "    table3_dict['location'] = i[3]\n",
    "    table3_dict['start_date'] = i[4]\n",
    "    table3_dict['end_date'] = i[5]\n",
    "    table3_dict['duration'] = i[6]\n",
    "    table3_dict['details'] = i[7]\n",
    "\n",
    "main_dict['table3_dict'] = table3_dict"
   ]
  },
  {
   "cell_type": "code",
   "execution_count": 33,
   "id": "7d43cf42",
   "metadata": {},
   "outputs": [],
   "source": [
    "table4_dict = {}\n",
    "l = []\n",
    "\n",
    "for i in conn.execute('SELECT * FROM SKILLS'):\n",
    "    l.append(i[1])\n",
    "          \n",
    "main_dict['table4_dict'] = l"
   ]
  },
  {
   "cell_type": "code",
   "execution_count": 34,
   "id": "0257761e",
   "metadata": {},
   "outputs": [
    {
     "data": {
      "text/plain": [
       "{'table1_dict': {'tid': 'TB101',\n",
       "  'name': 'Biswajit Basak',\n",
       "  'heading': 'Computer Science Graduate | AI ML Enthusiast | Pythoneer',\n",
       "  'description': 'I am an Engineering Graduate. I pursued my Bachelors Degree in Computer Science. I am passionate about coding and machine learning. I am always enthusiastic about new technologies and eager to learn new skills and broaden my knowledge. In my spare time, I make videos on YouTube. Traveling and exploring places is also a part of my life.',\n",
       "  'email': 'juelbasak@gmail.com',\n",
       "  'linkedin': 'linkedin.com/in/biswajit-basak-30bba185',\n",
       "  'git': 'github.com/JuelBasak',\n",
       "  'kaggle': 'kaggle.com/juelbasak'},\n",
       " 'table2_dict': {'tid': 'TB201',\n",
       "  'degree': 'B. Tech in Computer Science and Engineering',\n",
       "  'university': 'M. S. Ramaiah University of Applied Sciences',\n",
       "  'location': 'Bangalore',\n",
       "  'score': 7.73,\n",
       "  'start_date': '09/2015',\n",
       "  'end_date': '05/2019',\n",
       "  'duration': 4.0},\n",
       " 'table3_dict': {'tid': 'TB301',\n",
       "  'designation': 'Project Engineer',\n",
       "  'company': 'Wipro',\n",
       "  'location': 'Chennai',\n",
       "  'start_date': '10/2019',\n",
       "  'end_date': '03/2021',\n",
       "  'duration': 1.5,\n",
       "  'details': 'Completed Multiple Trainings and got Certified. Completed TopCoder Assignments.'},\n",
       " 'table4_dict': ['Python Programming',\n",
       "  'Machine Learning',\n",
       "  'Flask Framework',\n",
       "  'MongoDB',\n",
       "  'SQL',\n",
       "  'HTML',\n",
       "  'CSS',\n",
       "  'Bootstrap',\n",
       "  'Git/Github',\n",
       "  'Linux Familiarity']}"
      ]
     },
     "execution_count": 34,
     "metadata": {},
     "output_type": "execute_result"
    }
   ],
   "source": [
    "main_dict"
   ]
  },
  {
   "cell_type": "code",
   "execution_count": 35,
   "id": "5f422495",
   "metadata": {},
   "outputs": [],
   "source": [
    "table5_dict = {}\n",
    "l = []\n",
    "\n",
    "for i in conn.execute('SELECT * FROM INTEREST'):\n",
    "    l.append(i[1])\n",
    "          \n",
    "main_dict['table5_dict'] = l"
   ]
  },
  {
   "cell_type": "code",
   "execution_count": 36,
   "id": "e5d35860",
   "metadata": {},
   "outputs": [
    {
     "data": {
      "text/plain": [
       "{'table1_dict': {'tid': 'TB101',\n",
       "  'name': 'Biswajit Basak',\n",
       "  'heading': 'Computer Science Graduate | AI ML Enthusiast | Pythoneer',\n",
       "  'description': 'I am an Engineering Graduate. I pursued my Bachelors Degree in Computer Science. I am passionate about coding and machine learning. I am always enthusiastic about new technologies and eager to learn new skills and broaden my knowledge. In my spare time, I make videos on YouTube. Traveling and exploring places is also a part of my life.',\n",
       "  'email': 'juelbasak@gmail.com',\n",
       "  'linkedin': 'linkedin.com/in/biswajit-basak-30bba185',\n",
       "  'git': 'github.com/JuelBasak',\n",
       "  'kaggle': 'kaggle.com/juelbasak'},\n",
       " 'table2_dict': {'tid': 'TB201',\n",
       "  'degree': 'B. Tech in Computer Science and Engineering',\n",
       "  'university': 'M. S. Ramaiah University of Applied Sciences',\n",
       "  'location': 'Bangalore',\n",
       "  'score': 7.73,\n",
       "  'start_date': '09/2015',\n",
       "  'end_date': '05/2019',\n",
       "  'duration': 4.0},\n",
       " 'table3_dict': {'tid': 'TB301',\n",
       "  'designation': 'Project Engineer',\n",
       "  'company': 'Wipro',\n",
       "  'location': 'Chennai',\n",
       "  'start_date': '10/2019',\n",
       "  'end_date': '03/2021',\n",
       "  'duration': 1.5,\n",
       "  'details': 'Completed Multiple Trainings and got Certified. Completed TopCoder Assignments.'},\n",
       " 'table4_dict': ['Python Programming',\n",
       "  'Machine Learning',\n",
       "  'Flask Framework',\n",
       "  'MongoDB',\n",
       "  'SQL',\n",
       "  'HTML',\n",
       "  'CSS',\n",
       "  'Bootstrap',\n",
       "  'Git/Github',\n",
       "  'Linux Familiarity'],\n",
       " 'table5_dict': ['Programming',\n",
       "  'Gaming',\n",
       "  'Making Videos',\n",
       "  'Exploring New Places']}"
      ]
     },
     "execution_count": 36,
     "metadata": {},
     "output_type": "execute_result"
    }
   ],
   "source": [
    "main_dict"
   ]
  },
  {
   "cell_type": "code",
   "execution_count": 37,
   "id": "42476e5a",
   "metadata": {},
   "outputs": [],
   "source": [
    "table6_dict = {}\n",
    "l = []\n",
    "\n",
    "for i in conn.execute('SELECT * FROM PROFESSION'):\n",
    "    l.append(i[1])\n",
    "          \n",
    "main_dict['table6_dict'] = l"
   ]
  },
  {
   "cell_type": "code",
   "execution_count": 47,
   "id": "370201d4",
   "metadata": {},
   "outputs": [],
   "source": [
    "table7_dict = {}\n",
    "\n",
    "l = []\n",
    "\n",
    "\n",
    "for i in conn.execute('SELECT * FROM CERTIFICATES'):\n",
    "    temp_dict = {}\n",
    "    temp_dict['tid'] = i[0]\n",
    "    temp_dict['certificate_name'] = i[1]\n",
    "    temp_dict['issuer'] = i[2]\n",
    "    temp_dict['location'] = i[3]\n",
    "    temp_dict['certificate_link'] = i[4]\n",
    "    temp_dict['start_date'] = i[5]\n",
    "    temp_dict['end_date'] = i[6]\n",
    "    temp_dict['duration'] = i[7]\n",
    "    temp_dict['details'] = i[8]\n",
    "    \n",
    "    l.append(temp_dict)\n",
    "          \n",
    "main_dict['table7_dict'] = l"
   ]
  },
  {
   "cell_type": "code",
   "execution_count": 48,
   "id": "f464139a",
   "metadata": {
    "scrolled": false
   },
   "outputs": [
    {
     "data": {
      "text/plain": [
       "{'table1_dict': {'tid': 'TB101',\n",
       "  'name': 'Biswajit Basak',\n",
       "  'heading': 'Computer Science Graduate | AI ML Enthusiast | Pythoneer',\n",
       "  'description': 'I am an Engineering Graduate. I pursued my Bachelors Degree in Computer Science. I am passionate about coding and machine learning. I am always enthusiastic about new technologies and eager to learn new skills and broaden my knowledge. In my spare time, I make videos on YouTube. Traveling and exploring places is also a part of my life.',\n",
       "  'email': 'juelbasak@gmail.com',\n",
       "  'linkedin': 'linkedin.com/in/biswajit-basak-30bba185',\n",
       "  'git': 'github.com/JuelBasak',\n",
       "  'kaggle': 'kaggle.com/juelbasak'},\n",
       " 'table2_dict': {'tid': 'TB201',\n",
       "  'degree': 'B. Tech in Computer Science and Engineering',\n",
       "  'university': 'M. S. Ramaiah University of Applied Sciences',\n",
       "  'location': 'Bangalore',\n",
       "  'score': 7.73,\n",
       "  'start_date': '09/2015',\n",
       "  'end_date': '05/2019',\n",
       "  'duration': 4.0},\n",
       " 'table3_dict': {'tid': 'TB301',\n",
       "  'designation': 'Project Engineer',\n",
       "  'company': 'Wipro',\n",
       "  'location': 'Chennai',\n",
       "  'start_date': '10/2019',\n",
       "  'end_date': '03/2021',\n",
       "  'duration': 1.5,\n",
       "  'details': 'Completed Multiple Trainings and got Certified. Completed TopCoder Assignments.'},\n",
       " 'table4_dict': ['Python Programming',\n",
       "  'Machine Learning',\n",
       "  'Flask Framework',\n",
       "  'MongoDB',\n",
       "  'SQL',\n",
       "  'HTML',\n",
       "  'CSS',\n",
       "  'Bootstrap',\n",
       "  'Git/Github',\n",
       "  'Linux Familiarity'],\n",
       " 'table5_dict': ['Programming',\n",
       "  'Gaming',\n",
       "  'Making Videos',\n",
       "  'Exploring New Places'],\n",
       " 'table6_dict': ['I am proficient in Python Programming and its paradigms like Object-Oriented Paradigm, Functional Paradigm, and Procedural Paradigm. (Pythoning for 5 Years)',\n",
       "  'I have good experience in various Data Preprocessing and Visualization libraries like Numpy, Pandas, Matplotlib, Seaborn, Klib, and Plotly.',\n",
       "  'I have a detailed understanding of the working of Machine Learning Algorithms like Regression and Classification Models, Ensemble Techniques, and Clustering.',\n",
       "  'I use the Flask Framework in Python for my Projects.',\n",
       "  'I use GIT for Version Controlling of my Projects.',\n",
       "  'I deploy all my Built Projects on Cloud Platforms.',\n",
       "  'Comfortable with Linux Distributions (Ubuntu, Debian, Arch etc)'],\n",
       " 'table7_dict': [{'tid': 'TB701',\n",
       "   'certificate_name': 'AI ML Certification',\n",
       "   'issuer': 'Wipro',\n",
       "   'location': 'Online',\n",
       "   'certificate_link': 'https://github.com/JuelBasak/Certificates/blob/master/Wipro/AI%20App%20Developer%20program_20122958.pdf',\n",
       "   'start_date': '12/2019',\n",
       "   'end_date': '01/2020',\n",
       "   'duration': 2.0,\n",
       "   'details': 'Completed AI ML Certification from Wipro, which included Python Programming assignments and Machine Learning Assignments'},\n",
       "  {'tid': 'TB702',\n",
       "   'certificate_name': 'Machine Learning Certificate',\n",
       "   'issuer': '365DataScience',\n",
       "   'location': 'Online',\n",
       "   'certificate_link': 'https://github.com/JuelBasak/Certificates/tree/master/365%20Data%20Science',\n",
       "   'start_date': '03/2020',\n",
       "   'end_date': '04/2020',\n",
       "   'duration': 2.0,\n",
       "   'details': 'Completed Multiple certifications on Python, Statistics, Mathematics, Deep Learning etc.'},\n",
       "  {'tid': 'TB703',\n",
       "   'certificate_name': 'IoT using Arduino',\n",
       "   'issuer': 'Skify Labs',\n",
       "   'location': 'Bangalore',\n",
       "   'certificate_link': 'https://github.com/JuelBasak/Certificates/blob/master/SkiFy%20labs%20Certificate.pdf',\n",
       "   'start_date': '09/2017',\n",
       "   'end_date': '09/2017',\n",
       "   'duration': 2.0,\n",
       "   'details': 'Build an IOT Device using breadboard and arduino to measure the nearby temperature and upload the data using the wifi module to a server.'}]}"
      ]
     },
     "execution_count": 48,
     "metadata": {},
     "output_type": "execute_result"
    }
   ],
   "source": [
    "main_dict"
   ]
  },
  {
   "cell_type": "code",
   "execution_count": 50,
   "id": "6a3ed389",
   "metadata": {},
   "outputs": [
    {
     "data": {
      "text/plain": [
       "[{'tid': 'TB801',\n",
       "  'project_name': 'Football Player Overall Score Prediction',\n",
       "  'project_deployment_link': 'https://github.com/JuelBasak/Machine-Learning-Project-iNeuron',\n",
       "  'start_date': 'https://ml-project-ineuron.herokuapp.com/',\n",
       "  'end_date': '01/2022',\n",
       "  'details': '01/2022'},\n",
       " {'tid': 'TB802',\n",
       "  'project_name': 'Income Prediction using XGBoost Algorithm',\n",
       "  'project_deployment_link': 'https://github.com/JuelBasak/Income-Prediction',\n",
       "  'start_date': 'https://income-prediction-xgboost.herokuapp.com/',\n",
       "  'end_date': '09/2021',\n",
       "  'details': '09/2021'},\n",
       " {'tid': 'TB803',\n",
       "  'project_name': 'Boston Housing Price Prediction using Random Forest',\n",
       "  'project_deployment_link': 'https://github.com/JuelBasak/BostonHousing-RandomForest',\n",
       "  'start_date': 'https://boston-housing-randomforest.herokuapp.com/',\n",
       "  'end_date': '09/2021',\n",
       "  'details': '09/2021'},\n",
       " {'tid': 'TB804',\n",
       "  'project_name': 'Titanic Survival Prediction using Decision Tree Algorithm',\n",
       "  'project_deployment_link': 'https://github.com/JuelBasak/DecisionTreeOnTitanic',\n",
       "  'start_date': 'https://titanic-classifi-decision-tree.herokuapp.com/',\n",
       "  'end_date': '08/2021',\n",
       "  'details': '08/2021'},\n",
       " {'tid': 'TB805',\n",
       "  'project_name': 'Red Wine Quality Prediction using Decision Tree Algorithm',\n",
       "  'project_deployment_link': 'https://github.com/JuelBasak/RedWineQualityPrediction',\n",
       "  'start_date': 'https://redwine-quality-prediction.herokuapp.com/',\n",
       "  'end_date': '08/2021',\n",
       "  'details': '08/2021'},\n",
       " {'tid': 'TB806',\n",
       "  'project_name': 'Woman Affair Classification using Logistic Regression',\n",
       "  'project_deployment_link': 'https://github.com/JuelBasak/Woman-Affair-LogisticRegression',\n",
       "  'start_date': 'http://woman-affair-classifier.herokuapp.com/',\n",
       "  'end_date': '07/2021',\n",
       "  'details': '07/2021'},\n",
       " {'tid': 'TB807',\n",
       "  'project_name': 'Boston Housing Price Prediction using Linear Regression',\n",
       "  'project_deployment_link': 'https://github.com/JuelBasak/BostonHousingPrice',\n",
       "  'start_date': 'https://boston-housing-price-linear.herokuapp.com/',\n",
       "  'end_date': '07/2021',\n",
       "  'details': '07/2021'},\n",
       " {'tid': 'TB808',\n",
       "  'project_name': \"Webscapper built using Python's Flask Framework using Selenium\",\n",
       "  'project_deployment_link': 'https://github.com/JuelBasak/MonsterIndia-Web-Scrapper',\n",
       "  'start_date': '',\n",
       "  'end_date': '06/2021',\n",
       "  'details': '06/2021'},\n",
       " {'tid': 'TB809',\n",
       "  'project_name': \"Webscrapper built using Python's Flask Framework\",\n",
       "  'project_deployment_link': 'https://github.com/JuelBasak/Flipkart-Scrapper-Heroku',\n",
       "  'start_date': 'https://flask-fl-scrapper.herokuapp.com/',\n",
       "  'end_date': '06/2021',\n",
       "  'details': '06/2021'},\n",
       " {'tid': 'TB8010',\n",
       "  'project_name': 'Analysis of Trivial and Bio-inspired Algorithms',\n",
       "  'project_deployment_link': 'https://github.com/JuelBasak/Final-Project-B.Tech',\n",
       "  'start_date': 'https://github.com/JuelBasak/Final-Project-B.Tech',\n",
       "  'end_date': '02/2019',\n",
       "  'details': '05/2019'},\n",
       " {'tid': 'TB8011',\n",
       "  'project_name': 'Design and development of an application for Election Analysis and Voting',\n",
       "  'project_deployment_link': 'https://github.com/JuelBasak/Mini-Project-BTech',\n",
       "  'start_date': 'https://github.com/JuelBasak/Mini-Project-BTech',\n",
       "  'end_date': '02/2018',\n",
       "  'details': '05/2018'},\n",
       " {'tid': 'TB8012',\n",
       "  'project_name': 'Monitor Temperature using IOT Devices',\n",
       "  'project_deployment_link': '',\n",
       "  'start_date': '',\n",
       "  'end_date': '09/2017',\n",
       "  'details': '09/2017'}]"
      ]
     },
     "execution_count": 50,
     "metadata": {},
     "output_type": "execute_result"
    }
   ],
   "source": [
    "table8_dict = {}\n",
    "\n",
    "l = []\n",
    "\n",
    "for i in conn.execute('SELECT * FROM PROJECTS'):\n",
    "    temp_dict = {}\n",
    "    temp_dict['tid'] = i[0]\n",
    "    temp_dict['project_name'] = i[1]\n",
    "    temp_dict['project_deployment_link'] = i[2]\n",
    "    temp_dict['project_git_link'] = i[3]\n",
    "    temp_dict['start_date'] = i[4]\n",
    "    temp_dict['end_date'] = i[5]\n",
    "    temp_dict['details'] = i[6]\n",
    "    \n",
    "    l.append(temp_dict)\n",
    "          \n",
    "# main_dict['table8_dict'] = l\n",
    "l"
   ]
  },
  {
   "cell_type": "code",
   "execution_count": null,
   "id": "e8fd894c",
   "metadata": {},
   "outputs": [],
   "source": []
  }
 ],
 "metadata": {
  "kernelspec": {
   "display_name": "Python 3 (ipykernel)",
   "language": "python",
   "name": "python3"
  },
  "language_info": {
   "codemirror_mode": {
    "name": "ipython",
    "version": 3
   },
   "file_extension": ".py",
   "mimetype": "text/x-python",
   "name": "python",
   "nbconvert_exporter": "python",
   "pygments_lexer": "ipython3",
   "version": "3.9.7"
  }
 },
 "nbformat": 4,
 "nbformat_minor": 5
}
